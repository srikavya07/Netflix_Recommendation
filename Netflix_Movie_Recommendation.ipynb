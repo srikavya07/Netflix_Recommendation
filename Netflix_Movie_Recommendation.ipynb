{
  "nbformat": 4,
  "nbformat_minor": 0,
  "metadata": {
    "colab": {
      "provenance": []
    },
    "kernelspec": {
      "name": "python3",
      "display_name": "Python 3"
    },
    "language_info": {
      "name": "python"
    }
  },
  "cells": [
    {
      "cell_type": "code",
      "execution_count": null,
      "metadata": {
        "id": "HP30D-VSFr8R"
      },
      "outputs": [],
      "source": []
    },
    {
      "cell_type": "markdown",
      "source": [
        "# Netflix Movie Recommendation"
      ],
      "metadata": {
        "id": "biXFgFV0F4VO"
      }
    },
    {
      "cell_type": "code",
      "source": [
        "# Step 1: Import Libraries\n",
        "import pandas as pd\n",
        "from sklearn.feature_extraction.text import TfidfVectorizer\n",
        "from sklearn.metrics.pairwise import cosine_similarity\n",
        "\n",
        "# Step 2: Read Dataset (Assume movies.csv is uploaded to Colab or present in the same directory)\n",
        "movies = pd.read_csv('/content/sample_data/movies.csv')"
      ],
      "metadata": {
        "id": "L1MbjazMGeFY"
      },
      "execution_count": 7,
      "outputs": []
    },
    {
      "cell_type": "code",
      "source": [
        "# Step 3: Preprocess and Create Content Column\n",
        "movies['content'] = movies['title'] + ' ' + movies['overview'].fillna('') + ' ' + \\\n",
        "                    movies['keywords'].fillna('') + ' ' + movies['cast'].fillna('') + ' ' + \\\n",
        "                    movies['director'].fillna('')"
      ],
      "metadata": {
        "id": "no46JH9bHjPz"
      },
      "execution_count": 8,
      "outputs": []
    },
    {
      "cell_type": "code",
      "source": [
        "# Step 4: TF-IDF Vectorization\n",
        "vectorizer = TfidfVectorizer(max_features=1000, stop_words='english')\n",
        "movie_vectors = vectorizer.fit_transform(movies['content'])"
      ],
      "metadata": {
        "id": "GB2PUXCsHnsO"
      },
      "execution_count": 9,
      "outputs": []
    },
    {
      "cell_type": "code",
      "source": [
        "# Step 5: Calculate Cosine Similarity Matrix\n",
        "similarity = cosine_similarity(movie_vectors)"
      ],
      "metadata": {
        "id": "mAXCPs95HreI"
      },
      "execution_count": 10,
      "outputs": []
    },
    {
      "cell_type": "code",
      "source": [
        "# Step 6: Recommendation Function\n",
        "def recommend(movie_title):\n",
        "    try:\n",
        "        # Get the index of the movie\n",
        "        index = movies[movies['title'].str.lower() == movie_title.lower()].index[0]\n",
        "\n",
        "        # Get similarity scores\n",
        "        distances = list(enumerate(similarity[index]))\n",
        "\n",
        "        # Sort movies by similarity score\n",
        "        sorted_movies = sorted(distances, reverse=True, key=lambda x: x[1])[1:6]\n",
        "\n",
        "        # Print top 5 similar movies\n",
        "        print(f\"\\nTop 5 recommendations for '{movie_title}':\")\n",
        "        for i in sorted_movies:\n",
        "            print(movies.iloc[i[0]].title)\n",
        "    except IndexError:\n",
        "        print(\"Movie not found in the dataset. Please check the title.\")"
      ],
      "metadata": {
        "id": "264kxz3GH0zq"
      },
      "execution_count": 11,
      "outputs": []
    },
    {
      "cell_type": "code",
      "source": [
        "# Step 7: Example Usage\n",
        "recommend('How to Train Your Dragon')"
      ],
      "metadata": {
        "colab": {
          "base_uri": "https://localhost:8080/"
        },
        "id": "e6fYvdSfH1xb",
        "outputId": "99d93982-68ce-4390-94d4-0c3f0ea859a0"
      },
      "execution_count": 12,
      "outputs": [
        {
          "output_type": "stream",
          "name": "stdout",
          "text": [
            "\n",
            "Top 5 recommendations for 'How to Train Your Dragon':\n",
            "How to Train Your Dragon 2\n",
            "Dragon Nest: Warriors' Dawn\n",
            "Dragon Hunters\n",
            "George and the Dragon\n",
            "Pete's Dragon\n"
          ]
        }
      ]
    }
  ]
}